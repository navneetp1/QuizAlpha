{
 "cells": [
  {
   "cell_type": "code",
   "execution_count": 84,
   "id": "70a3a032-c3e6-4b8f-964f-f90d53b40dee",
   "metadata": {},
   "outputs": [],
   "source": [
    "import numpy as np\n",
    "\n",
    "from tensorflow import keras\n",
    "from bidict import bidict\n",
    "from tensorflow.keras import layers\n",
    "from tensorflow.keras import regularizers\n",
    "\n",
    "from sklearn.metrics import confusion_matrix\n",
    "from sklearn.utils import shuffle\n"
   ]
  },
  {
   "cell_type": "code",
   "execution_count": 2,
   "id": "9b30942b-5bcf-4e84-845f-2b1ac9fb86e3",
   "metadata": {},
   "outputs": [],
   "source": [
    "ENCODER = bidict({'A': 1, 'B': 2, 'C': 3, 'D': 4, 'E': 5, 'F': 6, 'G': 7, 'H': 8,\n",
    "                  'I': 9, 'J': 10, 'K': 11, 'L': 12, 'M': 13, 'N': 14, 'O': 15, 'P': 16,\n",
    "                  'Q': 17, 'R': 18, 'S': 19, 'T': 20, 'U': 21, 'V': 22, 'W': 23, 'X': 24,\n",
    "                  'Y': 25, 'Z': 26})"
   ]
  },
  {
   "cell_type": "code",
   "execution_count": 3,
   "id": "924a54aa-06d3-46cc-aa34-b2de9f5f6c6f",
   "metadata": {},
   "outputs": [
    {
     "data": {
      "text/plain": [
       "(130,)"
      ]
     },
     "execution_count": 3,
     "metadata": {},
     "output_type": "execute_result"
    }
   ],
   "source": [
    "keys = np.load('../data/keys.npy')\n",
    "# converting to numbers as its better than string for ML\n",
    "keys = np.array([ENCODER[x] for x in keys])\n",
    "keys.shape"
   ]
  },
  {
   "cell_type": "code",
   "execution_count": 4,
   "id": "22a459f3-65ad-4b13-ab6f-0c77cad8e828",
   "metadata": {},
   "outputs": [
    {
     "data": {
      "text/plain": [
       "array([[0., 0., 0., ..., 0., 0., 0.],\n",
       "       [0., 0., 0., ..., 0., 0., 0.],\n",
       "       [0., 0., 0., ..., 0., 0., 0.],\n",
       "       ...,\n",
       "       [0., 0., 0., ..., 0., 0., 0.],\n",
       "       [0., 0., 0., ..., 0., 0., 0.],\n",
       "       [0., 0., 0., ..., 0., 0., 0.]], dtype=float32)"
      ]
     },
     "execution_count": 4,
     "metadata": {},
     "output_type": "execute_result"
    }
   ],
   "source": [
    "imgs = np.load('../data/images.npy')\n",
    "imgs = imgs.astype('float32') / 255\n",
    "# imgs.shape\n",
    "imgs[0]"
   ]
  },
  {
   "cell_type": "code",
   "execution_count": 5,
   "id": "6a1096e1-5e5a-4c89-8242-eac9596303b0",
   "metadata": {},
   "outputs": [
    {
     "data": {
      "image/png": "[encoded data removed]",
      "text/plain": [
       "<Figure size 640x480 with 1 Axes>"
      ]
     },
     "metadata": {},
     "output_type": "display_data"
    }
   ],
   "source": [
    "import matplotlib.pyplot as plt\n",
    "import seaborn as sns\n",
    "\n",
    "plt.figure()\n",
    "plt.imshow(imgs[4])\n",
    "plt.grid(False)\n",
    "plt.show()"
   ]
  },
  {
   "cell_type": "code",
   "execution_count": 6,
   "id": "2d78add4-4d8f-4323-b9fd-661a012fdcbb",
   "metadata": {},
   "outputs": [],
   "source": [
    "imgs = np.expand_dims(imgs, -1)"
   ]
  },
  {
   "cell_type": "code",
   "execution_count": 11,
   "id": "7644181e-1f97-411b-b7a7-0d04cb5b0a50",
   "metadata": {},
   "outputs": [],
   "source": [
    "keys, imgs = shuffle(keys, imgs)\n",
    "split = .75\n",
    "\n",
    "keys_train = keys[: int(len(keys) * split)]\n",
    "keys_test = keys[int(len(keys) * split): ]\n",
    "\n",
    "imgs_train = imgs[: int(len(imgs) * split)]\n",
    "imgs_test = imgs[int(len(imgs) * split): ]\n"
   ]
  },
  {
   "cell_type": "code",
   "execution_count": 78,
   "id": "13864446-f49f-426d-a1d8-57301cb4b94f",
   "metadata": {},
   "outputs": [],
   "source": [
    "batch_size = 17\n",
    "epochs = 30\n",
    "\n",
    "model = keras.Sequential([\n",
    "    keras.Input(shape=(50, 50, 1)),\n",
    "    layers.Conv2D(32, kernel_size=3, activation='relu'),\n",
    "    layers.MaxPooling2D(pool_size=2),\n",
    "    layers.Dropout(0.2),\n",
    "    layers.Conv2D(64, kernel_size=3, activation='relu'),\n",
    "    layers.MaxPooling2D(pool_size=2),\n",
    "    layers.Dropout(0.2),\n",
    "    layers.Flatten(),\n",
    "    layers.Dense(len(ENCODER)+1, activation='softmax')\n",
    "])"
   ]
  },
  {
   "cell_type": "code",
   "execution_count": 79,
   "id": "56c62123-6c50-4a96-8fba-f60bdcf1cec9",
   "metadata": {},
   "outputs": [],
   "source": [
    "early_stop = keras.callbacks.EarlyStopping(monitor='val_accuracy', patience=2)\n",
    "optimizer = keras.optimizers.Adam()\n",
    "\n",
    "model.compile(loss='sparse_categorical_crossentropy', optimizer=optimizer, metrics=['accuracy'])"
   ]
  },
  {
   "cell_type": "code",
   "execution_count": 83,
   "id": "86f28368-f16b-49e4-ad5e-6689206c336f",
   "metadata": {
    "scrolled": true
   },
   "outputs": [
    {
     "name": "stdout",
     "output_type": "stream",
     "text": [
      "Epoch 1/30\n",
      "\u001b[1m6/6\u001b[0m \u001b[32m━━━━━━━━━━━━━━━━━━━━\u001b[0m\u001b[37m\u001b[0m \u001b[1m0s\u001b[0m 75ms/step - accuracy: 1.0000 - loss: 1.8841e-04 - val_accuracy: 0.7273 - val_loss: 2.0925\n",
      "Epoch 2/30\n",
      "\u001b[1m6/6\u001b[0m \u001b[32m━━━━━━━━━━━━━━━━━━━━\u001b[0m\u001b[37m\u001b[0m \u001b[1m0s\u001b[0m 66ms/step - accuracy: 1.0000 - loss: 1.3878e-04 - val_accuracy: 0.7273 - val_loss: 2.0939\n",
      "Epoch 3/30\n",
      "\u001b[1m6/6\u001b[0m \u001b[32m━━━━━━━━━━━━━━━━━━━━\u001b[0m\u001b[37m\u001b[0m \u001b[1m0s\u001b[0m 67ms/step - accuracy: 1.0000 - loss: 1.7434e-04 - val_accuracy: 0.7273 - val_loss: 2.0936\n"
     ]
    },
    {
     "data": {
      "text/plain": [
       "<keras.src.callbacks.history.History at 0x1fb7b504680>"
      ]
     },
     "execution_count": 83,
     "metadata": {},
     "output_type": "execute_result"
    }
   ],
   "source": [
    "model.fit(imgs_train, \n",
    "          keys_train, \n",
    "          batch_size=batch_size, \n",
    "          epochs=epochs, \n",
    "          validation_data=[imgs_test, keys_test],\n",
    "          callbacks=[early_stop]\n",
    "         )\n",
    "\n",
    "# add more training data here to get 90% accuracy"
   ]
  },
  {
   "cell_type": "code",
   "execution_count": 86,
   "id": "40696062-bd19-48d5-bb88-798565d557d1",
   "metadata": {},
   "outputs": [
    {
     "name": "stdout",
     "output_type": "stream",
     "text": [
      "\u001b[1m2/2\u001b[0m \u001b[32m━━━━━━━━━━━━━━━━━━━━\u001b[0m\u001b[37m\u001b[0m \u001b[1m0s\u001b[0m 117ms/step\n"
     ]
    }
   ],
   "source": [
    "keys_predict = np.argmax(model.predict(imgs_test), axis=-1)"
   ]
  },
  {
   "cell_type": "code",
   "execution_count": null,
   "id": "509290e4-993b-4380-9783-6ad3a4a92c02",
   "metadata": {},
   "outputs": [],
   "source": [
    "cm = confusion_matrix(keys_test, keys_predict, labels=list(ENCODER.inverse.keys()))\n",
    "cm"
   ]
  },
  {
   "cell_type": "code",
   "execution_count": 90,
   "id": "0fac9beb-b12f-4977-b410-0a8f9d120090",
   "metadata": {
    "collapsed": true,
    "jupyter": {
     "outputs_hidden": true
    }
   },
   "outputs": [
    {
     "data": {
      "image/png": "[encoded data removed]",
      "text/plain": [
       "<Figure size 1200x1200 with 1 Axes>"
      ]
     },
     "metadata": {},
     "output_type": "display_data"
    }
   ],
   "source": [
    "plt.figure(figsize=(12, 12))\n",
    "sns.heatmap(cm, annot=True, cbar=False, cmap=\"Blues\", xticklabels=list(ENCODER.keys()), yticklabels=list(ENCODER.keys()))\n",
    "plt.show()"
   ]
  },
  {
   "cell_type": "code",
   "execution_count": 94,
   "id": "8db9d6bc-6cd0-459e-9477-bdefadebb0c8",
   "metadata": {},
   "outputs": [],
   "source": [
    "model.save('../alphabet.keras')"
   ]
  },
  {
   "cell_type": "code",
   "execution_count": null,
   "id": "505fabd6-0e44-40b8-bf4d-405c3ea43778",
   "metadata": {},
   "outputs": [],
   "source": []
  }
 ],
 "metadata": {
  "kernelspec": {
   "display_name": "Python 3 (ipykernel)",
   "language": "python",
   "name": "python3"
  },
  "language_info": {
   "codemirror_mode": {
    "name": "ipython",
    "version": 3
   },
   "file_extension": ".py",
   "mimetype": "text/x-python",
   "name": "python",
   "nbconvert_exporter": "python",
   "pygments_lexer": "ipython3",
   "version": "3.12.2"
  }
 },
 "nbformat": 4,
 "nbformat_minor": 5
}
